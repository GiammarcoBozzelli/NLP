{
 "cells": [
  {
   "cell_type": "code",
   "execution_count": 15,
   "metadata": {
    "collapsed": true
   },
   "outputs": [
    {
     "name": "stdout",
     "output_type": "stream",
     "text": [
      "Iter:1 Progress:97.99% Training Accuracy:0.8738775510204082%Test Accuracy:0.884\n"
     ]
    }
   ],
   "source": [
    "import sys\n",
    "#https://www.kaggle.com/lakshmi25npathi/imdb-dataset-of-50k-movie-reviews <--- Dataset URL",
    "import numpy as np\n",
    "import pandas as pd\n",
    "f = pd.read_csv('IMDB Dataset.csv', delimiter=',',skiprows=0)\n",
    "raw_reviews = f.iloc[:,0]\n",
    "raw_labels = f.iloc[:,1]\n",
    "\n",
    "tokens = list(map(lambda x:set(x.split(\" \")),raw_reviews))\n",
    "vocab = set()\n",
    "for sent in tokens:\n",
    "    for word in sent:\n",
    "        if len(word) > 0:\n",
    "            vocab.add(word)\n",
    "\n",
    "vocab = list(vocab)\n",
    "word2index = {}\n",
    "for i,word in enumerate(vocab):\n",
    "    word2index[word]=i\n",
    "input_dataset = list()\n",
    "for sent in tokens:\n",
    "    sent_indices = list()\n",
    "    for word in sent:\n",
    "        try:\n",
    "            sent_indices.append(word2index[word])\n",
    "        except:\n",
    "            pass\n",
    "    input_dataset.append(list(set(sent_indices)))\n",
    "\n",
    "target_dataset = list()\n",
    "\n",
    "for label in raw_labels:\n",
    "    if label == 'positive':\n",
    "        target_dataset.append(1)\n",
    "    else:\n",
    "        target_dataset.append(0)\n",
    "\n",
    "def sigmoid(x):\n",
    "    return 1/(1 + np.exp(-x))\n",
    "alpha, iterations = (0.01, 2)\n",
    "hidden_size = 100\n",
    "weights_0_1 = 0.2*np.random.random((len(vocab),hidden_size)) - 0.1\n",
    "weights_1_2 = 0.2*np.random.random((hidden_size,1)) - 0.1\n",
    "\n",
    "\n",
    "correct,total=(0,0)\n",
    "for iter in range(iterations):\n",
    "\n",
    "    for i in range(len(input_dataset)-1000):\n",
    "        x,y = (input_dataset[i],target_dataset[i])\n",
    "        layer1 = sigmoid(np.sum(weights_0_1[x],axis=0))\n",
    "        layer2 = sigmoid(np.dot(layer1,weights_1_2))\n",
    "\n",
    "        layer2_delta = layer2 - y\n",
    "        layer1_delta = np.dot(layer2_delta,weights_1_2.T)\n",
    "        weights_0_1[x] -= layer1_delta * alpha\n",
    "        #weights_1_2 -= layer2_delta * alpha\n",
    "        weights_1_2 -= np.outer(layer1,layer2_delta) * alpha\n",
    "        if np.abs(layer2_delta) < 0.5:\n",
    "            correct += 1\n",
    "        total += 1\n",
    "        if(i % 10 == 9):\n",
    "            progress = str(i/float(len(input_dataset)))\n",
    "            sys.stdout.write('\\rIter:'+str(iter)\\\n",
    "            +' Progress:'+progress[2:4]\\\n",
    "            +'.'+progress[4:6]\\\n",
    "            +'% Training Accuracy:'\\\n",
    "            + str(correct/float(total)) + '%')\n",
    "\n",
    "correct,total = (0,0)\n",
    "for i in range(len(input_dataset)-1000,len(input_dataset)):\n",
    "    x = input_dataset[i]\n",
    "    y = target_dataset[i]\n",
    "    layer_1 = sigmoid(np.sum(weights_0_1[x],axis=0))\n",
    "    layer_2 = sigmoid(np.dot(layer_1,weights_1_2))\n",
    "    if(np.abs(layer_2 - y) < 0.5):\n",
    "        correct += 1\n",
    "    total += 1\n",
    "\n",
    "print(\"Test Accuracy:\" + str(correct / float(total)))"
   ]
  },
  {
   "cell_type": "code",
   "execution_count": 15,
   "outputs": [],
   "source": [],
   "metadata": {
    "collapsed": false,
    "pycharm": {
     "name": "#%%\n"
    }
   }
  }
 ],
 "metadata": {
  "kernelspec": {
   "display_name": "Python 3",
   "language": "python",
   "name": "python3"
  },
  "language_info": {
   "codemirror_mode": {
    "name": "ipython",
    "version": 2
   },
   "file_extension": ".py",
   "mimetype": "text/x-python",
   "name": "python",
   "nbconvert_exporter": "python",
   "pygments_lexer": "ipython2",
   "version": "2.7.6"
  }
 },
 "nbformat": 4,
 "nbformat_minor": 0
}
